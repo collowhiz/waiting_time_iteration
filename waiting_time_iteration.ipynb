{
 "cells": [
  {
   "cell_type": "code",
   "execution_count": null,
   "id": "2f2eb4b6-ec9e-41a8-a07d-ca648299db15",
   "metadata": {},
   "outputs": [],
   "source": [
    "import numpy as np\n",
    "import scipy.stats as st\n",
    "\n",
    "def estimate_waiting_time():\n",
    "    print(\"Welcome to the Supermarket Waiting Time Estimation App!\")\n",
    "    \n",
    "    # Collect user inputs for each activity\n",
    "    while True:\n",
    "        try:\n",
    "            num_customers_in_queue = int(input('How many customers are currently in the queue? '))\n",
    "            lambda_cashier = float(input('How many customers are served per minute? '))\n",
    "            lambda_mobile_payment = float(input('How many transactions per minute for mobile payments? '))\n",
    "            lambda_shopping = float(input('How much time did you spend shopping (in hours)? '))\n",
    "            lambda_computer_systems = float(input('How long did it take to process your order (in minutes)? '))\n",
    "            \n",
    "            # Validate inputs to ensure they are reasonable values\n",
    "            if all(x > 0 for x in [num_customers_in_queue, lambda_cashier, lambda_mobile_payment, lambda_shopping, lambda_computer_systems]):\n",
    "                break\n",
    "            else:\n",
    "                print(\"Please enter positive values for all inputs.\")\n",
    "        except ValueError:\n",
    "            print(\"Invalid input. Please enter a valid number.\")\n",
    "\n",
    "    # Consider the impact of the number of customers in the queue on the cashier's lambda\n",
    "    adjusted_lambda_cashier = lambda_cashier + 0.1 * num_customers_in_queue\n",
    "\n",
    "    # Generate random waiting times using Poisson distribution\n",
    "    wait_time_cueing = np.random.poisson(1 / num_customers_in_queue)  # Assuming the queue influences cueing time\n",
    "    wait_time_cashier = np.random.poisson(1 / adjusted_lambda_cashier)\n",
    "    wait_time_mobile_payment = np.random.poisson(1 / lambda_mobile_payment)\n",
    "    wait_time_shopping = np.random.poisson(60 * lambda_shopping)  # Convert hours to minutes\n",
    "    wait_time_computer_systems = np.random.poisson(1 / lambda_computer_systems)\n",
    "\n",
    "    # Sum up waiting times for total waiting time\n",
    "    total_waiting_time = (wait_time_cueing + wait_time_cashier +\n",
    "                          wait_time_mobile_payment + wait_time_shopping +\n",
    "                          wait_time_computer_systems)\n",
    "\n",
    "    return total_waiting_time\n",
    "\n",
    "# Example usage\n",
    "estimated_waiting_time = estimate_waiting_time()\n",
    "print(f\"\\nEstimated total waiting time in the supermarket: {estimated_waiting_time:.2f} minutes\")\n",
    "\n"
   ]
  },
  {
   "cell_type": "code",
   "execution_count": null,
   "id": "52026c5b-fcaf-44a3-8058-57cef443f9d1",
   "metadata": {},
   "outputs": [],
   "source": []
  },
  {
   "cell_type": "code",
   "execution_count": null,
   "id": "ec20737f-6216-4716-aefb-3f866a0a7268",
   "metadata": {},
   "outputs": [],
   "source": []
  },
  {
   "cell_type": "code",
   "execution_count": null,
   "id": "52fed670-0c24-4984-8aab-27cda6d4707a",
   "metadata": {},
   "outputs": [],
   "source": []
  },
  {
   "cell_type": "code",
   "execution_count": null,
   "id": "e12ccd07-7995-42e4-80b8-a8f76d68358a",
   "metadata": {},
   "outputs": [],
   "source": []
  },
  {
   "cell_type": "code",
   "execution_count": null,
   "id": "6e90bc8f-e55d-461e-969c-2ba524b09737",
   "metadata": {},
   "outputs": [],
   "source": []
  },
  {
   "cell_type": "code",
   "execution_count": null,
   "id": "9f27fac9-2ac7-4623-b1d5-27310000da9b",
   "metadata": {},
   "outputs": [],
   "source": []
  },
  {
   "cell_type": "code",
   "execution_count": null,
   "id": "4b977b7c-1e8c-472f-a8eb-d575a1737649",
   "metadata": {},
   "outputs": [],
   "source": []
  },
  {
   "cell_type": "code",
   "execution_count": null,
   "id": "4496be0c-e489-4d42-acf6-e46cd62bb228",
   "metadata": {},
   "outputs": [],
   "source": []
  }
 ],
 "metadata": {
  "kernelspec": {
   "display_name": "Python 3 (ipykernel)",
   "language": "python",
   "name": "python3"
  },
  "language_info": {
   "codemirror_mode": {
    "name": "ipython",
    "version": 3
   },
   "file_extension": ".py",
   "mimetype": "text/x-python",
   "name": "python",
   "nbconvert_exporter": "python",
   "pygments_lexer": "ipython3",
   "version": "3.11.7"
  }
 },
 "nbformat": 4,
 "nbformat_minor": 5
}
